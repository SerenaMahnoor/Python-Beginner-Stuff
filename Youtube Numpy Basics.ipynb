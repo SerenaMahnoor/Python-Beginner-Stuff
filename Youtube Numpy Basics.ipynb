{
 "cells": [
  {
   "cell_type": "markdown",
   "metadata": {},
   "source": [
    "# Numpy tutorial on Youtube - 21 min"
   ]
  },
  {
   "cell_type": "markdown",
   "metadata": {},
   "source": [
    "### https://www.youtube.com/watch?v=AAS8yoKuK7M&ab_channel=JoeJames"
   ]
  },
  {
   "cell_type": "markdown",
   "metadata": {},
   "source": [
    "in case you dont have: use pip install numpy"
   ]
  },
  {
   "cell_type": "code",
   "execution_count": 2,
   "metadata": {},
   "outputs": [],
   "source": [
    "import numpy as np"
   ]
  },
  {
   "cell_type": "markdown",
   "metadata": {},
   "source": [
    "Let's create an array\n",
    "* Pass in a list to the array() constructor\n",
    "* Use the arrange function, similar to the range function but used for Numpy arrays. Uses the arguments (start, stop+1, step).\n",
    "* Use linspace to create an array of n equally spaced values. Uses arguments (start, stop, number of items)\n",
    "* Create an array empty, full of ones or zeros, or full of any fil value. Uses argument (shape) in the form of a tuple."
   ]
  },
  {
   "cell_type": "code",
   "execution_count": 26,
   "metadata": {
    "scrolled": true
   },
   "outputs": [
    {
     "name": "stdout",
     "output_type": "stream",
     "text": [
      "[ 1  3  5  7  9 11]\n",
      "[ 1  3  5  7  9 11]\n",
      "[5.   5.25 5.5  5.75 6.   6.25 6.5  6.75 7.   7.25 7.5  7.75 8.  ]\n",
      "[[0. 0.]\n",
      " [0. 0.]\n",
      " [0. 0.]\n",
      " [0. 0.]]\n",
      "[[1 1 1]\n",
      " [1 1 1]]\n",
      "[88 88 88 88 88 88]\n",
      "[25  0 35 40]\n",
      "[[1 3 5]\n",
      " [7 8 9]]\n",
      "[[0 0 0]\n",
      " [0 0 0]]\n",
      "[[1 1 1]\n",
      " [1 1 1]]\n",
      "[[1 1 1]\n",
      " [1 1 1]]\n"
     ]
    }
   ],
   "source": [
    "a = np.array([1,3,5,7,9,11]) #array constructor\n",
    "print(a)\n",
    "\n",
    "a= np.arange(1,12,2) #creating a range-like array from 1-11 in increments of 2\n",
    "print(a)\n",
    "\n",
    "a= np.linspace(5,8,13) #linear spacing- controlled number of items. Instead of setting increments, you specify the number of outcomes. so we go from 5- 8 in increments that result in 13 elements\n",
    "print(a)\n",
    "\n",
    "a=np.zeros((4,2)) #an array full of zeroes with dimensions we have specified. \n",
    "print(a)\n",
    "\n",
    "a= np.ones((2,3), dtype=np.int16) #same as above but for ones plus we set the data type- int16 is a defined data type.\n",
    "print(a)\n",
    "\n",
    "a=np.full((6,), 88) #a one-dimensional array with a defined number of a given element\n",
    "print(a)\n",
    "\n",
    "a=np.fromstring('25 0 35 40', dtype=np.int, sep=' ') #we enter string, separate by spaces that we specify with sep=' ', convert to dtype = integer type that numpy decides\n",
    "print(a)\n",
    "\n",
    "a=np.array([[1,3,5],[7,8,9]]) #two dimensional array\n",
    "print(a)\n",
    "\n",
    "b=np.zeros_like(a) #creates a similar array to specified one and fills it in with zeros\n",
    "print(b)\n",
    "\n",
    "c=np.ones_like(a) #same but for ones\n",
    "print(c)\n",
    "\n",
    "d=np.ones_like(b) #works regardless of content of reference array\n",
    "print(d)"
   ]
  },
  {
   "cell_type": "markdown",
   "metadata": {},
   "source": [
    "## Numpy Attributes\n",
    "learning about the characteristics of a given array"
   ]
  },
  {
   "cell_type": "code",
   "execution_count": 36,
   "metadata": {},
   "outputs": [
    {
     "name": "stdout",
     "output_type": "stream",
     "text": [
      "[[1 3 5]\n",
      " [7 8 9]]\n",
      "6\n",
      "(2, 3)\n",
      "2\n",
      "4\n",
      "int32\n",
      "24\n"
     ]
    },
    {
     "data": {
      "text/plain": [
       "True"
      ]
     },
     "execution_count": 36,
     "metadata": {},
     "output_type": "execute_result"
    }
   ],
   "source": [
    "print(a)\n",
    "print(a.size)\n",
    "print(a.shape) #output is 2 rows by 3 columns\n",
    "print(a.ndim) #number of dimensions- 2\n",
    "print(a.itemsize) #the memory each item takes up in an array (each item is same type)\n",
    "print(a.dtype) #type of data- int32 takes up 4bytes for every item. \n",
    "print(a.nbytes) #total memory used by all items in the array. 4bytes*6items\n",
    "a.nbytes==(a.size*a.itemsize) #same thing"
   ]
  },
  {
   "cell_type": "markdown",
   "metadata": {},
   "source": [
    "## Indexing and Slicing\n",
    "\n",
    "Use square brckets to get an array by index. Multidimensional arrays can use multiple square brackets embedded in one another.\n",
    "\n",
    "There are three arguments for slicing arrays, all are optional: [stat:stop:step].\n",
    "If start is left blank, it defaults to 0\n",
    "If stop is left blank, it defaults to the end of the array\n",
    "Step defaults to 1"
   ]
  },
  {
   "cell_type": "code",
   "execution_count": 47,
   "metadata": {},
   "outputs": [
    {
     "name": "stdout",
     "output_type": "stream",
     "text": [
      "[[1 3 5]\n",
      " [7 8 9]]\n",
      "[7 8 9]\n",
      "5\n",
      "[[1 1 1]]\n",
      "[[1 3 5]]\n",
      "[[7 8 9]]\n",
      "[[3]\n",
      " [8]]\n"
     ]
    }
   ],
   "source": [
    "print(a)\n",
    "print(a[1])\n",
    "print(a[0][2])#from the 0th item get the 2nd item \n",
    "print(c[1:4]) #wont get output beyond 1st item cuz we dont have those dimensions\n",
    "\n",
    "print(a[:1]) #slices after first item\n",
    "print(a[1:3:2])\n",
    "print(a[:, 1:2]) #slices, square bracket for the whole array, colon for x dimension, "
   ]
  },
  {
   "cell_type": "markdown",
   "metadata": {},
   "source": [
    "## Reshape, Swap, Axes, Flatten\n",
    "array manipulation routines"
   ]
  },
  {
   "cell_type": "code",
   "execution_count": 51,
   "metadata": {},
   "outputs": [
    {
     "name": "stdout",
     "output_type": "stream",
     "text": [
      "[[-9 -8 -7]\n",
      " [-6 -5 -4]]\n",
      "[[-9 -6]\n",
      " [-8 -5]\n",
      " [-7 -4]]\n",
      "[-9 -6 -8 -5 -7 -4]\n"
     ]
    }
   ],
   "source": [
    "e = np.arange(-9, -3,).reshape(2,3) #arange that inputs range into an array of defined dimensions\n",
    "print(e)\n",
    "\n",
    "e= e.swapaxes(0,1)\n",
    "print(e)\n",
    "\n",
    "e=e.flatten()\n",
    "print(e)\n",
    "\n"
   ]
  },
  {
   "cell_type": "markdown",
   "metadata": {},
   "source": [
    "## Using dtype to Save Space\n",
    "default data types- int32 and float64, are memory hogs. If you dont need higher precision, you can save a lot of memory space and improve operation speed using smaller data types. Makes a big difference for larger data sets.\n",
    "Use a dtype that makes sense for the type of data that you store"
   ]
  },
  {
   "cell_type": "code",
   "execution_count": 52,
   "metadata": {},
   "outputs": [
    {
     "name": "stdout",
     "output_type": "stream",
     "text": [
      "int32 <class 'numpy.ndarray'>\n",
      "400\n",
      "int8 <class 'numpy.ndarray'>\n",
      "100\n"
     ]
    }
   ],
   "source": [
    "f=np.arange(0,100) #we made a 100 element array\n",
    "print(f.dtype, type(d[1]))\n",
    "print(f.nbytes) #number of bytes\n",
    "\n",
    "f=np.arange(0,100, dtype='int8') #if we arent using like 10 digit integers, then we use int8\n",
    "print(f.dtype, type(d[1]))\n",
    "print(f.nbytes)"
   ]
  },
  {
   "cell_type": "markdown",
   "metadata": {},
   "source": [
    "## UpCasting, Rounding, Print Formatting\n",
    "Data type of all items is upcast to the most precise element"
   ]
  },
  {
   "cell_type": "code",
   "execution_count": 75,
   "metadata": {},
   "outputs": [
    {
     "name": "stdout",
     "output_type": "stream",
     "text": [
      "[[1.56667 2.      3.     ]\n",
      " [4.      5.      6.     ]]\n",
      "float64\n",
      "[[1.5667 2.     3.    ]\n",
      " [4.     5.     6.    ]]\n",
      "[[1.5667 2.     3.    ]\n",
      " [4.     5.     6.    ]]\n",
      "[[1.5667 2.     3.    ]\n",
      " [4.     5.     6.    ]]\n"
     ]
    }
   ],
   "source": [
    "g=np.array([(1.566666,2,3),(4,5,6)])\n",
    "print(g)\n",
    "print(g.dtype)\n",
    "\n",
    "g=g.round(4)\n",
    "print(g)\n",
    "\n",
    "np.set_printoptions(precision=5,suppress=True)\n",
    "print(g)\n",
    "np.set_printoptions(precision=None,suppress=False)\n",
    "print(g)"
   ]
  },
  {
   "cell_type": "markdown",
   "metadata": {},
   "source": [
    "## Numpy Data Types Available\n",
    "unit is unsigned int, for positive numbers"
   ]
  },
  {
   "cell_type": "code",
   "execution_count": 76,
   "metadata": {},
   "outputs": [
    {
     "name": "stdout",
     "output_type": "stream",
     "text": [
      "{'complex': [<class 'numpy.complex64'>, <class 'numpy.complex128'>],\n",
      " 'float': [<class 'numpy.float16'>,\n",
      "           <class 'numpy.float32'>,\n",
      "           <class 'numpy.float64'>],\n",
      " 'int': [<class 'numpy.int8'>,\n",
      "         <class 'numpy.int16'>,\n",
      "         <class 'numpy.int32'>,\n",
      "         <class 'numpy.int64'>],\n",
      " 'others': [<class 'bool'>,\n",
      "            <class 'object'>,\n",
      "            <class 'bytes'>,\n",
      "            <class 'str'>,\n",
      "            <class 'numpy.void'>],\n",
      " 'uint': [<class 'numpy.uint8'>,\n",
      "          <class 'numpy.uint16'>,\n",
      "          <class 'numpy.uint32'>,\n",
      "          <class 'numpy.uint64'>]}\n"
     ]
    }
   ],
   "source": [
    "import pprint as pp #pretty print\n",
    "pp.pprint(np.sctypes) #all available data types for numpy arrays"
   ]
  },
  {
   "cell_type": "markdown",
   "metadata": {},
   "source": [
    "## Reading an Writing to Files\n",
    "Can use loadtxt or genfromtext to load data in an entire file into an array at once. Genfromtxt is more fault tolerant.\n",
    "Use savetxt to write an array to a file"
   ]
  },
  {
   "cell_type": "code",
   "execution_count": 180,
   "metadata": {},
   "outputs": [
    {
     "name": "stdout",
     "output_type": "stream",
     "text": [
      "[[9 3 8 7 6 1 0 4 2 5]\n",
      " [1 7 4 9 2 6 8 3 5 0]\n",
      " [4 8 3 9 5 7 2 6 0 1]\n",
      " [1 7 4 2 5 9 6 8 0 3]\n",
      " [0 7 5 2 8 6 3 4 1 9]\n",
      " [5 9 1 4 7 0 3 6 8 2]]\n",
      "int32\n"
     ]
    }
   ],
   "source": [
    "h=np.loadtxt('data.txt',skiprows=1,delimiter=\",\", dtype=np.int32)\n",
    "print(h)\n",
    "print(h.dtype)\n",
    "\n",
    "np.savetxt('data2.txt', h, delimiter=',', fmt='%d', header='a;b;c;d;e;f;g;h;i;j', comments='')\n",
    "#%d forces the stuff to be stored as integers. If we dont put comments equals nothing cuz otherwise header has hashtag..."
   ]
  },
  {
   "cell_type": "code",
   "execution_count": 181,
   "metadata": {},
   "outputs": [
    {
     "name": "stdout",
     "output_type": "stream",
     "text": [
      "[[9 3 8 7 6 1 0 4 2 5]\n",
      " [1 7 4 9 2 6 8 3 5 0]\n",
      " [4 8 3 9 5 7 2 6 0 1]\n",
      " [1 7 4 2 5 9 6 8 0 3]\n",
      " [0 7 5 2 8 6 3 4 1 9]\n",
      " [5 9 1 4 7 0 3 6 8 2]]\n"
     ]
    }
   ],
   "source": [
    "h=np.genfromtxt('data.txt', skip_header=1, delimiter=',', dtype=np.int32)\n",
    "print(h) #same thing as before"
   ]
  },
  {
   "cell_type": "markdown",
   "metadata": {},
   "source": [
    "## Mathematical Functions\n",
    "You dont need to iterate (use for loops for every item in the array), you can apply an operation to an entire array or a slice of an array at once"
   ]
  },
  {
   "cell_type": "code",
   "execution_count": 182,
   "metadata": {},
   "outputs": [
    {
     "name": "stdout",
     "output_type": "stream",
     "text": [
      "[[9 3 8 7 6 1 0 4 2 5]\n",
      " [1 7 4 9 2 6 8 3 5 0]\n",
      " [4 8 3 9 5 7 2 6 0 1]\n",
      " [1 7 4 2 5 9 6 8 0 3]\n",
      " [0 7 5 2 8 6 3 4 1 9]\n",
      " [5 9 1 4 7 0 3 6 8 2]]\n",
      "[[ True False  True  True  True False False False False  True]\n",
      " [False  True False  True False  True  True False  True False]\n",
      " [False  True False  True  True  True False  True False False]\n",
      " [False  True False False  True  True  True  True False False]\n",
      " [False  True  True False  True  True False False False  True]\n",
      " [ True  True False False  True False False  True  True False]]\n",
      "[[80  8 63 48 35  0 -1 15  3 24]\n",
      " [ 0 48 15 80  3 35 63  8 24 -1]\n",
      " [15 63  8 80 24 48  3 35 -1  0]\n",
      " [ 0 48 15  3 24 80 35 63 -1  8]\n",
      " [-1 48 24  3 63 35  8 15  0 80]\n",
      " [24 80  0 15 48 -1  8 35 63  3]]\n"
     ]
    }
   ],
   "source": [
    "print(h)\n",
    "print(h>4)\n",
    "print(h**2-1)"
   ]
  },
  {
   "cell_type": "code",
   "execution_count": 188,
   "metadata": {},
   "outputs": [
    {
     "name": "stdout",
     "output_type": "stream",
     "text": [
      "[[9 3 8 7 6 1 0 4 2 5]\n",
      " [1 7 4 9 2 6 8 3 5 0]\n",
      " [4 8 3 9 5 7 2 6 0 1]\n",
      " [1 7 4 2 5 9 6 8 0 3]\n",
      " [0 7 5 2 8 6 3 4 1 9]\n",
      " [5 9 1 4 7 0 3 6 8 2]]\n",
      "0\n",
      "9\n",
      "270\n",
      "4.5\n",
      "8.25\n",
      "2.8722813232690143\n",
      "[45 45 45 45 45 45]\n",
      "[0 3 1 2 2 0 0 3 0 0]\n",
      "6\n",
      "0\n",
      "[[0 1 2 3 4 5 6 7 8 9]\n",
      " [0 1 2 3 4 5 6 7 8 9]\n",
      " [0 1 2 3 4 5 6 7 8 9]\n",
      " [0 1 2 3 4 5 6 7 8 9]\n",
      " [0 1 2 3 4 5 6 7 8 9]\n",
      " [0 1 2 3 4 5 6 7 8 9]]\n"
     ]
    }
   ],
   "source": [
    "print(h)\n",
    "print(h.min())\n",
    "print(h.max())\n",
    "print(h.sum())\n",
    "print(h.mean())\n",
    "print(h.var())\n",
    "print(h.std())\n",
    "\n",
    "print(h.sum(axis=1))\n",
    "print(h.min(axis=0))\n",
    "\n",
    "print(h.argmin()) #getting the index of the min element\n",
    "print(h.argmax()) #same for max element\n",
    "# print(h.argsort()) doesnt really work consistently #creates a sorted array out of the specified array\n",
    "h2=h.copy() #make a copy array of yours\n",
    "h2.sort() #and then sort it\n",
    "print(h2) #if you dont wana mutate the original"
   ]
  },
  {
   "cell_type": "markdown",
   "metadata": {},
   "source": [
    "## Column Operations\n",
    "Apply functions only to specific columns by slicing, or create a new array from the columns you want, then work on them.\n",
    "But beware that creating a new pointer to the same data can screw your data up if youre not careful"
   ]
  },
  {
   "cell_type": "code",
   "execution_count": 106,
   "metadata": {},
   "outputs": [
    {
     "name": "stdout",
     "output_type": "stream",
     "text": [
      "[[9 3 8 7 6 1 0 4 2 5]\n",
      " [1 7 4 9 2 6 8 3 5 0]\n",
      " [4 8 3 9 5 7 2 6 0 1]\n",
      " [1 7 4 2 5 9 6 8 0 3]\n",
      " [0 7 5 2 8 6 3 4 1 9]\n",
      " [5 9 1 4 7 0 3 6 8 2]]\n",
      "[[8]\n",
      " [4]\n",
      " [3]\n",
      " [4]\n",
      " [5]\n",
      " [1]]\n",
      "8\n",
      "[[7]\n",
      " [9]\n",
      " [9]\n",
      " [2]\n",
      " [2]\n",
      " [4]]\n",
      "[[  9   3   8 700   6   1   0   4   2   5]\n",
      " [  1   7   4 900   2   6   8   3   5   0]\n",
      " [  4   8   3 900   5   7   2   6   0   1]\n",
      " [  1   7   4 200   5   9   6   8   0   3]\n",
      " [  0   7   5 200   8   6   3   4   1   9]\n",
      " [  5   9   1 400   7   0   3   6   8   2]]\n"
     ]
    }
   ],
   "source": [
    "print(h)\n",
    "print(h[:, 2:3])\n",
    "print(h[:, 2:3].max())\n",
    "\n",
    "col3=h[:,3:4] #NOT a copy, just a pointer\n",
    "print(col3)\n",
    "\n",
    "col3*=100 #multiply and replace with result- modifies the array the pointer belongs to, directly!\n",
    "print(h)"
   ]
  },
  {
   "cell_type": "markdown",
   "metadata": {},
   "source": [
    "## Numpy Random Functions"
   ]
  },
  {
   "cell_type": "code",
   "execution_count": 117,
   "metadata": {
    "scrolled": true
   },
   "outputs": [
    {
     "name": "stdout",
     "output_type": "stream",
     "text": [
      "[0.58796 0.65987 0.85815 0.13726 0.78857 0.16106]\n",
      "float64\n",
      "[56 81 55 39 10 21 10 76]\n",
      "76\n",
      "[10 10 21 39 55 56 76 81]\n"
     ]
    }
   ],
   "source": [
    "np.set_printoptions(precision=5, suppress=True) #show 5dp, suppress scientific notation\n",
    "i=np.random.random(6)\n",
    "print(i)\n",
    "print(i.dtype)\n",
    "\n",
    "i=np.random.randint(10,99,8) #(low, high inclusive, size)\n",
    "print(i)\n",
    "\n",
    "np.random.shuffle(i) #in-place shuffle\n",
    "\n",
    "print(np.random.choice(i))\n",
    "\n",
    "i.sort() #in-place sort\n",
    "print(i)"
   ]
  },
  {
   "cell_type": "code",
   "execution_count": 189,
   "metadata": {},
   "outputs": [
    {
     "name": "stdout",
     "output_type": "stream",
     "text": [
      "\n",
      "\n"
     ]
    }
   ],
   "source": [
    "print('\\n') #enter..."
   ]
  },
  {
   "cell_type": "code",
   "execution_count": null,
   "metadata": {},
   "outputs": [],
   "source": []
  }
 ],
 "metadata": {
  "kernelspec": {
   "display_name": "Python 3",
   "language": "python",
   "name": "python3"
  },
  "language_info": {
   "codemirror_mode": {
    "name": "ipython",
    "version": 3
   },
   "file_extension": ".py",
   "mimetype": "text/x-python",
   "name": "python",
   "nbconvert_exporter": "python",
   "pygments_lexer": "ipython3",
   "version": "3.8.3"
  }
 },
 "nbformat": 4,
 "nbformat_minor": 4
}
